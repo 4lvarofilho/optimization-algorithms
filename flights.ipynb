{
 "cells": [
  {
   "cell_type": "code",
   "execution_count": 17,
   "metadata": {},
   "outputs": [],
   "source": [
    "pessoas = [('Lisboa', 'LIS'),\n",
    "           ('Madrid', 'MAD'),\n",
    "           ('Paris', 'CDG'),\n",
    "           ('Dublin', 'DUB'),\n",
    "           ('Bruxelas', 'BRU'),\n",
    "           ('Londres', 'LHR')]"
   ]
  },
  {
   "cell_type": "code",
   "execution_count": 18,
   "metadata": {},
   "outputs": [
    {
     "data": {
      "text/plain": [
       "('Londres', 'LHR')"
      ]
     },
     "execution_count": 18,
     "metadata": {},
     "output_type": "execute_result"
    }
   ],
   "source": [
    "pessoas[5]"
   ]
  },
  {
   "cell_type": "code",
   "execution_count": 19,
   "metadata": {},
   "outputs": [],
   "source": [
    "destino = 'FCO'"
   ]
  },
  {
   "cell_type": "code",
   "execution_count": 20,
   "metadata": {},
   "outputs": [],
   "source": [
    "voos = {('BRU', 'FCO'): ['15:44', '18:55', 382]}"
   ]
  },
  {
   "cell_type": "code",
   "execution_count": 21,
   "metadata": {},
   "outputs": [
    {
     "data": {
      "text/plain": [
       "{('BRU', 'FCO'): ['15:44', '18:55', 382]}"
      ]
     },
     "execution_count": 21,
     "metadata": {},
     "output_type": "execute_result"
    }
   ],
   "source": [
    "voos"
   ]
  },
  {
   "cell_type": "markdown",
   "metadata": {},
   "source": [
    "<h2>Divisão de vôos por origem e destino</h2>"
   ]
  },
  {
   "cell_type": "code",
   "execution_count": 22,
   "metadata": {},
   "outputs": [],
   "source": [
    "voos = {}\n",
    "for linha in open('/Users/alvin/Documents/MyProjects/PythonAI/optimization_algorithms/flights.txt'):\n",
    "    origem, destino, saida, chegada, preco = linha.split(',')\n",
    "    voos.setdefault((origem, destino), [])\n",
    "    voos[(origem, destino)].append((saida, chegada, int(preco)))"
   ]
  },
  {
   "cell_type": "code",
   "execution_count": 23,
   "metadata": {},
   "outputs": [
    {
     "data": {
      "text/plain": [
       "[('6:11', '8:31', 249),\n",
       " ('7:39', '10:24', 219),\n",
       " ('9:15', '12:03', 99),\n",
       " ('11:08', '13:07', 175),\n",
       " ('12:18', '14:56', 172),\n",
       " ('13:37', '15:08', 250),\n",
       " ('15:03', '16:42', 135),\n",
       " ('16:51', '19:09', 147),\n",
       " ('18:12', '20:17', 242),\n",
       " ('20:05', '22:06', 261)]"
      ]
     },
     "execution_count": 23,
     "metadata": {},
     "output_type": "execute_result"
    }
   ],
   "source": [
    "voos[('LIS', 'FCO')]"
   ]
  },
  {
   "cell_type": "code",
   "execution_count": 24,
   "metadata": {},
   "outputs": [
    {
     "data": {
      "text/plain": [
       "12"
      ]
     },
     "execution_count": 24,
     "metadata": {},
     "output_type": "execute_result"
    }
   ],
   "source": [
    "agenda = [1,2, 3,2, 7,3, 6,3, 2,4, 5,3]\n",
    "len(agenda)"
   ]
  },
  {
   "cell_type": "code",
   "execution_count": 25,
   "metadata": {},
   "outputs": [
    {
     "data": {
      "text/plain": [
       "6"
      ]
     },
     "execution_count": 25,
     "metadata": {},
     "output_type": "execute_result"
    }
   ],
   "source": [
    "len(agenda) // 2"
   ]
  },
  {
   "cell_type": "code",
   "execution_count": 26,
   "metadata": {},
   "outputs": [
    {
     "data": {
      "text/plain": [
       "'MAD'"
      ]
     },
     "execution_count": 26,
     "metadata": {},
     "output_type": "execute_result"
    }
   ],
   "source": [
    "pessoas[1][1]"
   ]
  },
  {
   "cell_type": "code",
   "execution_count": 27,
   "metadata": {},
   "outputs": [],
   "source": [
    "def imprimir_voos(agenda):\n",
    "    id_voo = -1\n",
    "    total_preco = 0\n",
    "    for i in range(len(agenda) // 2):\n",
    "        nome = pessoas[i][0]\n",
    "        origem = pessoas[i][1]\n",
    "        id_voo += 1\n",
    "        ida = voos[(origem, destino)][agenda[id_voo]]\n",
    "        total_preco += ida[2]\n",
    "        id_voo += 1\n",
    "        volta = voos[(destino, origem)][agenda[id_voo]]\n",
    "        total_preco += volta[2]\n",
    "        print('%10s%10s %5s-%5s %3s %5s-%5s %3s' % (nome, origem, ida[0], ida[1], ida[2],\n",
    "                                                    volta[0], volta[1], volta[2]))\n",
    "    print('Preço total: ', total_preco)"
   ]
  },
  {
   "cell_type": "code",
   "execution_count": 28,
   "metadata": {},
   "outputs": [
    {
     "name": "stdout",
     "output_type": "stream",
     "text": [
      "    Lisboa       LIS  7:39-10:24 219  6:19- 8:13 239\n",
      "    Madrid       MAD 11:01-12:39 260  9:11-10:42 172\n",
      "     Paris       CDG 17:07-20:04 291  8:23-11:07 143\n",
      "    Dublin       DUB 15:27-17:18 151 10:33-12:03  74\n",
      "  Bruxelas       BRU  9:08-12:12 364 12:20-16:34 500\n",
      "   Londres       LHR 13:40-15:38 137 10:32-13:16 139\n",
      "Preço total:  2689\n"
     ]
    }
   ],
   "source": [
    "agenda = [1,0, 3,2, 7,1, 6,3, 2,4, 5,3]\n",
    "imprimir_voos(agenda)"
   ]
  },
  {
   "cell_type": "markdown",
   "metadata": {},
   "source": [
    "<h1>Fitness Function</h1>"
   ]
  },
  {
   "cell_type": "code",
   "execution_count": 29,
   "metadata": {},
   "outputs": [],
   "source": [
    "def fitness_function(agenda):\n",
    "  id_voo = -1\n",
    "  total_preco = 0\n",
    "  for i in range(len(agenda) // 2):\n",
    "    origem = pessoas[i][1]\n",
    "    id_voo += 1\n",
    "    ida = voos[(origem, destino)][agenda[id_voo]]\n",
    "    total_preco += ida[2]\n",
    "    id_voo += 1\n",
    "    volta = voos[(destino, origem)][agenda[id_voo]]\n",
    "    total_preco += volta[2]\n",
    "\n",
    "  return total_preco"
   ]
  },
  {
   "cell_type": "code",
   "execution_count": 30,
   "metadata": {},
   "outputs": [
    {
     "data": {
      "text/plain": [
       "2619"
      ]
     },
     "execution_count": 30,
     "metadata": {},
     "output_type": "execute_result"
    }
   ],
   "source": [
    "agenda = [1,7, 3,1, 1,1, 6,3, 2,4, 5,3]\n",
    "fitness_function(agenda)"
   ]
  },
  {
   "cell_type": "code",
   "execution_count": 32,
   "metadata": {},
   "outputs": [
    {
     "name": "stderr",
     "output_type": "stream",
     "text": [
      "Cloning into 'mlrose'...\n"
     ]
    },
    {
     "name": "stdout",
     "output_type": "stream",
     "text": [
      "Processing c:\\users\\alvin\\documents\\myprojects\\pythonai\\optimization_algorithms\\mlrose\n",
      "  Installing build dependencies: started\n",
      "  Installing build dependencies: finished with status 'done'\n",
      "  Getting requirements to build wheel: started\n",
      "  Getting requirements to build wheel: finished with status 'done'\n",
      "  Preparing metadata (pyproject.toml): started\n",
      "  Preparing metadata (pyproject.toml): finished with status 'done'\n",
      "Requirement already satisfied: numpy in c:\\users\\alvin\\appdata\\roaming\\python\\python312\\site-packages (from mlrose==1.3.0) (2.0.0)\n",
      "Collecting scipy (from mlrose==1.3.0)\n",
      "  Downloading scipy-1.14.1-cp312-cp312-win_amd64.whl.metadata (60 kB)\n",
      "Collecting scikit-learn (from mlrose==1.3.0)\n",
      "  Downloading scikit_learn-1.5.1-cp312-cp312-win_amd64.whl.metadata (12 kB)\n",
      "Collecting joblib>=1.2.0 (from scikit-learn->mlrose==1.3.0)\n",
      "  Downloading joblib-1.4.2-py3-none-any.whl.metadata (5.4 kB)\n",
      "Collecting threadpoolctl>=3.1.0 (from scikit-learn->mlrose==1.3.0)\n",
      "  Downloading threadpoolctl-3.5.0-py3-none-any.whl.metadata (13 kB)\n",
      "Downloading scikit_learn-1.5.1-cp312-cp312-win_amd64.whl (10.9 MB)\n",
      "   ---------------------------------------- 0.0/10.9 MB ? eta -:--:--\n",
      "   ---------------------------------- ----- 9.4/10.9 MB 49.1 MB/s eta 0:00:01\n",
      "   ---------------------------------------- 10.9/10.9 MB 29.8 MB/s eta 0:00:00\n",
      "Downloading scipy-1.14.1-cp312-cp312-win_amd64.whl (44.5 MB)\n",
      "   ---------------------------------------- 0.0/44.5 MB ? eta -:--:--\n",
      "   --------- ------------------------------ 10.2/44.5 MB 49.1 MB/s eta 0:00:01\n",
      "   --------------------- ------------------ 24.4/44.5 MB 59.4 MB/s eta 0:00:01\n",
      "   ----------------------------------- ---- 39.6/44.5 MB 64.6 MB/s eta 0:00:01\n",
      "   ---------------------------------------  44.3/44.5 MB 65.5 MB/s eta 0:00:01\n",
      "   ---------------------------------------  44.3/44.5 MB 65.5 MB/s eta 0:00:01\n",
      "   ---------------------------------------  44.3/44.5 MB 65.5 MB/s eta 0:00:01\n",
      "   ---------------------------------------  44.3/44.5 MB 65.5 MB/s eta 0:00:01\n",
      "   ---------------------------------------  44.3/44.5 MB 65.5 MB/s eta 0:00:01\n",
      "   ---------------------------------------  44.3/44.5 MB 65.5 MB/s eta 0:00:01\n",
      "   ---------------------------------------  44.3/44.5 MB 65.5 MB/s eta 0:00:01\n",
      "   ---------------------------------------  44.3/44.5 MB 65.5 MB/s eta 0:00:01\n",
      "   ---------------------------------------  44.3/44.5 MB 65.5 MB/s eta 0:00:01\n",
      "   ---------------------------------------  44.3/44.5 MB 65.5 MB/s eta 0:00:01\n",
      "   ---------------------------------------  44.3/44.5 MB 65.5 MB/s eta 0:00:01\n",
      "   ---------------------------------------  44.3/44.5 MB 65.5 MB/s eta 0:00:01\n",
      "   ---------------------------------------  44.3/44.5 MB 65.5 MB/s eta 0:00:01\n",
      "   ---------------------------------------  44.3/44.5 MB 65.5 MB/s eta 0:00:01\n",
      "   ---------------------------------------  44.3/44.5 MB 65.5 MB/s eta 0:00:01\n",
      "   ---------------------------------------  44.3/44.5 MB 65.5 MB/s eta 0:00:01\n",
      "   ---------------------------------------  44.3/44.5 MB 65.5 MB/s eta 0:00:01\n",
      "   ---------------------------------------- 44.5/44.5 MB 10.6 MB/s eta 0:00:00\n",
      "Downloading joblib-1.4.2-py3-none-any.whl (301 kB)\n",
      "Downloading threadpoolctl-3.5.0-py3-none-any.whl (18 kB)\n",
      "Building wheels for collected packages: mlrose\n",
      "  Building wheel for mlrose (pyproject.toml): started\n",
      "  Building wheel for mlrose (pyproject.toml): finished with status 'done'\n",
      "  Created wheel for mlrose: filename=mlrose-1.3.0-py3-none-any.whl size=27924 sha256=9fb4431c03378392530ca9f3874e244964c322f6f76f1d7331a25771a35f3126\n",
      "  Stored in directory: C:\\Users\\alvin\\AppData\\Local\\Temp\\pip-ephem-wheel-cache-up7bobi9\\wheels\\b7\\d2\\02\\696e341c4f89c498e527c44d6a3f943130a4adc123e822800e\n",
      "Successfully built mlrose\n",
      "Installing collected packages: threadpoolctl, scipy, joblib, scikit-learn, mlrose\n",
      "Successfully installed joblib-1.4.2 mlrose-1.3.0 scikit-learn-1.5.1 scipy-1.14.1 threadpoolctl-3.5.0\n",
      "Note: you may need to restart the kernel to use updated packages.\n"
     ]
    },
    {
     "name": "stderr",
     "output_type": "stream",
     "text": [
      "WARNING: Ignoring invalid distribution ~ip (c:\\Python312\\Lib\\site-packages)\n",
      "WARNING: Ignoring invalid distribution ~ip (c:\\Python312\\Lib\\site-packages)\n",
      "WARNING: Ignoring invalid distribution ~ip (c:\\Python312\\Lib\\site-packages)\n",
      "WARNING: Ignoring invalid distribution ~ip (c:\\Python312\\Lib\\site-packages)\n"
     ]
    }
   ],
   "source": [
    "!git clone https://github.com/gkhayes/mlrose.git\n",
    "%pip install mlrose/."
   ]
  },
  {
   "cell_type": "code",
   "execution_count": 34,
   "metadata": {},
   "outputs": [],
   "source": [
    "import six\n",
    "import sys\n",
    "sys.modules['sklearn.externals.six'] = six\n",
    "import mlrose"
   ]
  },
  {
   "cell_type": "code",
   "execution_count": 35,
   "metadata": {},
   "outputs": [],
   "source": [
    "fitness = mlrose.CustomFitness(fitness_function)"
   ]
  },
  {
   "cell_type": "code",
   "execution_count": 36,
   "metadata": {},
   "outputs": [],
   "source": [
    "problema = mlrose.DiscreteOpt(length=12, fitness_fn=fitness,\n",
    "                              maximize = False, max_val = 10)"
   ]
  },
  {
   "cell_type": "markdown",
   "metadata": {},
   "source": [
    "<h1>Hill Climb</h1>"
   ]
  },
  {
   "cell_type": "code",
   "execution_count": 39,
   "metadata": {},
   "outputs": [
    {
     "data": {
      "text/plain": [
       "(array([2, 6, 5, 7, 8, 1, 3, 6, 0, 2, 9, 1], dtype=int32), 1566.0)"
      ]
     },
     "execution_count": 39,
     "metadata": {},
     "output_type": "execute_result"
    }
   ],
   "source": [
    "melhor_solucao, melhor_custo = mlrose.hill_climb(problema, random_state = 1)\n",
    "melhor_solucao, melhor_custo"
   ]
  },
  {
   "cell_type": "code",
   "execution_count": 40,
   "metadata": {},
   "outputs": [
    {
     "name": "stdout",
     "output_type": "stream",
     "text": [
      "    Lisboa       LIS  9:15-12:03  99 15:07-17:21 129\n",
      "    Madrid       MAD 14:22-16:32 126 17:06-20:00  95\n",
      "     Paris       CDG 18:23-21:35 134  8:23-11:07 143\n",
      "    Dublin       DUB 11:16-13:29  83 15:25-16:58  62\n",
      "  Bruxelas       BRU  6:12-10:22 230  9:49-13:51 229\n",
      "   Londres       LHR 20:30-23:11 114  8:19-11:16 122\n",
      "Preço total:  1566\n"
     ]
    }
   ],
   "source": [
    "imprimir_voos(melhor_solucao)"
   ]
  },
  {
   "cell_type": "markdown",
   "metadata": {},
   "source": [
    "<h1>Simulated Annealing</h1>"
   ]
  },
  {
   "cell_type": "code",
   "execution_count": 63,
   "metadata": {},
   "outputs": [
    {
     "data": {
      "text/plain": [
       "(array([2, 1, 5, 3, 9, 1, 9, 6, 0, 2, 9, 1], dtype=int32), 1668.0)"
      ]
     },
     "execution_count": 63,
     "metadata": {},
     "output_type": "execute_result"
    }
   ],
   "source": [
    "melhor_solucao, melhor_custo = mlrose.simulated_annealing(problema,\n",
    "                                                        #   schedule=mlrose.decay.GeomDecay(init_temp=10000), # ATUALIZAÇÃO FEV-2024\n",
    "                                                          schedule=mlrose.GeomDecay(init_temp=10000), # ATUALIZAÇÃO FEV-2024\n",
    "                                                          random_state=4)\n",
    "melhor_solucao, melhor_custo"
   ]
  },
  {
   "cell_type": "code",
   "execution_count": 64,
   "metadata": {},
   "outputs": [
    {
     "name": "stdout",
     "output_type": "stream",
     "text": [
      "    Lisboa       LIS  9:15-12:03  99  8:04-10:59 136\n",
      "    Madrid       MAD 14:22-16:32 126 10:33-13:11 132\n",
      "     Paris       CDG 19:53-22:21 173  8:23-11:07 143\n",
      "    Dublin       DUB 20:17-22:22 102 15:25-16:58  62\n",
      "  Bruxelas       BRU  6:12-10:22 230  9:49-13:51 229\n",
      "   Londres       LHR 20:30-23:11 114  8:19-11:16 122\n",
      "Preço total:  1668\n"
     ]
    }
   ],
   "source": [
    "imprimir_voos(melhor_solucao)"
   ]
  },
  {
   "cell_type": "markdown",
   "metadata": {},
   "source": [
    "<h1>Algoritmo Genético</h1>"
   ]
  },
  {
   "cell_type": "code",
   "execution_count": 80,
   "metadata": {},
   "outputs": [
    {
     "data": {
      "text/plain": [
       "(array([7, 3, 1, 2, 9, 0, 3, 8, 0, 3, 4, 1]), 1956.0)"
      ]
     },
     "execution_count": 80,
     "metadata": {},
     "output_type": "execute_result"
    }
   ],
   "source": [
    "melhor_solucao, melhor_custo = mlrose.genetic_alg(problema, pop_size=500, mutation_prob=0.2,\n",
    "                                                  random_state=1)\n",
    "melhor_solucao, melhor_custo"
   ]
  },
  {
   "cell_type": "code",
   "execution_count": 68,
   "metadata": {},
   "outputs": [
    {
     "name": "stdout",
     "output_type": "stream",
     "text": [
      "    Lisboa       LIS 16:51-19:09 147 11:07-13:24 171\n",
      "    Madrid       MAD  8:25-10:34 157  9:11-10:42 172\n",
      "     Paris       CDG 19:53-22:21 173  6:33- 9:14 172\n",
      "    Dublin       DUB 11:16-13:29  83 18:24-20:49 124\n",
      "  Bruxelas       BRU  6:12-10:22 230 10:51-14:16 256\n",
      "   Londres       LHR 12:08-14:59 149  8:19-11:16 122\n",
      "Preço total:  1956\n"
     ]
    }
   ],
   "source": [
    "imprimir_voos(melhor_solucao)"
   ]
  }
 ],
 "metadata": {
  "kernelspec": {
   "display_name": "Python 3",
   "language": "python",
   "name": "python3"
  },
  "language_info": {
   "codemirror_mode": {
    "name": "ipython",
    "version": 3
   },
   "file_extension": ".py",
   "mimetype": "text/x-python",
   "name": "python",
   "nbconvert_exporter": "python",
   "pygments_lexer": "ipython3",
   "version": "3.12.4"
  }
 },
 "nbformat": 4,
 "nbformat_minor": 2
}
